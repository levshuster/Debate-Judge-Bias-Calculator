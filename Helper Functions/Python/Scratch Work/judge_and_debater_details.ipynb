{
 "cells": [
  {
   "cell_type": "code",
   "execution_count": 69,
   "metadata": {},
   "outputs": [],
   "source": [
    "import requests"
   ]
  },
  {
   "cell_type": "markdown",
   "metadata": {},
   "source": [
    "# Create Pairings Record"
   ]
  },
  {
   "cell_type": "code",
   "execution_count": 70,
   "metadata": {},
   "outputs": [],
   "source": [
    "# id to be auto generated\n",
    "division = 981121\n",
    "tournament = 26620\n",
    "url = \"https://www.tabroom.com/index/tourn/postings/round.mhtml?tourn_id=26620&round_id=981121\"\n",
    "# url = \"https://www.tabroom.com/index/tourn/postings/round.mhtml?tourn_id=29541&round_id=1094146\""
   ]
  },
  {
   "cell_type": "code",
   "execution_count": 71,
   "metadata": {},
   "outputs": [],
   "source": [
    "# MAJOR SLOWDOWN: parse_rounds calls same url as this function\n",
    "\n",
    "from bs4 import BeautifulSoup\n",
    "\n",
    "\n",
    "# response = requests.get('https://www.tabroom.com/index/tourn/results/round_results.mhtml?'+url.split(\"?\")[-1])\n",
    "response = requests.get(url)\n",
    "soup = BeautifulSoup(response.text, 'html.parser')\n",
    "first_table = soup.find('table')\n",
    "\n"
   ]
  },
  {
   "cell_type": "code",
   "execution_count": 72,
   "metadata": {},
   "outputs": [],
   "source": [
    "import pandas as pd\n",
    "\n",
    "\n",
    "table_data = []\n",
    "headers = []\n",
    "\n",
    "# Process table headers if they exist\n",
    "thead = first_table.find('thead')\n",
    "if thead:\n",
    "\theader_row = thead.find('tr')\n",
    "\tif header_row:\n",
    "\t\theaders = [th.get_text(strip=True) for th in header_row.find_all('th')]\n",
    "\n",
    "# Process table rows\n",
    "tbody = first_table.find('tbody')\n",
    "if tbody:\n",
    "\trows = tbody.find_all('tr')\n",
    "\tfor row in rows:\n",
    "\t\tcols = row.find_all('td')\n",
    "\t\trow_data = []\n",
    "\t\tfor col in cols:\n",
    "\t\t\t# Get text content\n",
    "\t\t\ttext = col.get_text(strip=True)\n",
    "\t\t\t# Find all links in the cell\n",
    "\t\t\tlinks = [a['href'] for a in col.find_all('a', href=True)]\n",
    "\t\t\t# Append text and links as a tuple\n",
    "\t\t\trow_data.append((text, links))\n",
    "\t\ttable_data.append(row_data)\n",
    "df = pd.DataFrame(table_data, columns=headers)"
   ]
  },
  {
   "cell_type": "code",
   "execution_count": 73,
   "metadata": {},
   "outputs": [
    {
     "data": {
      "text/html": [
       "<div>\n",
       "<style scoped>\n",
       "    .dataframe tbody tr th:only-of-type {\n",
       "        vertical-align: middle;\n",
       "    }\n",
       "\n",
       "    .dataframe tbody tr th {\n",
       "        vertical-align: top;\n",
       "    }\n",
       "\n",
       "    .dataframe thead th {\n",
       "        text-align: right;\n",
       "    }\n",
       "</style>\n",
       "<table border=\"1\" class=\"dataframe\">\n",
       "  <thead>\n",
       "    <tr style=\"text-align: right;\">\n",
       "      <th></th>\n",
       "      <th></th>\n",
       "      <th></th>\n",
       "      <th>Judge</th>\n",
       "    </tr>\n",
       "  </thead>\n",
       "  <tbody>\n",
       "    <tr>\n",
       "      <th>0</th>\n",
       "      <td>(Redmond Neha Mahesh &amp; Nikki Taleghani, [/inde...</td>\n",
       "      <td>(Overlake Ammar Ghouse &amp; Caitrin Walker, [/ind...</td>\n",
       "      <td>(Hans Soderquist, [judge.mhtml?judge_id=197430...</td>\n",
       "    </tr>\n",
       "    <tr>\n",
       "      <th>1</th>\n",
       "      <td>(Henrietta Lacks Health and Bioscience London ...</td>\n",
       "      <td>(Ferris Ben Elrod &amp; John Garten, [/index/tourn...</td>\n",
       "      <td>(Girija Chintalapati, [judge.mhtml?judge_id=19...</td>\n",
       "    </tr>\n",
       "    <tr>\n",
       "      <th>2</th>\n",
       "      <td>(Gonzaga Prep William Kladar &amp; Max Johnson &amp; S...</td>\n",
       "      <td>(Tahoma Rex Dugan &amp; Hailey Sato, [/index/tourn...</td>\n",
       "      <td>(Emmett Simmons, [judge.mhtml?judge_id=1974939...</td>\n",
       "    </tr>\n",
       "    <tr>\n",
       "      <th>3</th>\n",
       "      <td>(Interlake Clarence Guo &amp; Daniel Jung, [/index...</td>\n",
       "      <td>(Overlake Musab Chummun &amp; Erik Vank, [/index/t...</td>\n",
       "      <td>(Chris Price, [judge.mhtml?judge_id=1966977&amp;to...</td>\n",
       "    </tr>\n",
       "    <tr>\n",
       "      <th>4</th>\n",
       "      <td>(Mt. Spokane Ellie Henshaw &amp; Beau Tampien, [/i...</td>\n",
       "      <td>(Union Elliot Holden &amp; Alice Schaak, [/index/t...</td>\n",
       "      <td>(Paul Lorimer, [judge.mhtml?judge_id=1979687&amp;t...</td>\n",
       "    </tr>\n",
       "    <tr>\n",
       "      <th>5</th>\n",
       "      <td>(Eastside Prep Zubin Oommen &amp; Jack Little, [/i...</td>\n",
       "      <td>(Mountlake Terrace Nathaniel Ballard &amp; Seth Me...</td>\n",
       "      <td>(Amy Chapman, [judge.mhtml?judge_id=1985314&amp;to...</td>\n",
       "    </tr>\n",
       "    <tr>\n",
       "      <th>6</th>\n",
       "      <td>(Mount Vernon Dawn Rosas &amp; Ailene Valles, [/in...</td>\n",
       "      <td>(Battle Ground Elizabeth McAleer &amp; Clarity Coo...</td>\n",
       "      <td>(Skye Cordero, [judge.mhtml?judge_id=1971595&amp;t...</td>\n",
       "    </tr>\n",
       "    <tr>\n",
       "      <th>7</th>\n",
       "      <td>(Ferris Anvi Sehgal &amp; Madeleine Schreiber, [/i...</td>\n",
       "      <td>(Gig Harbor Logan Thoms &amp; Madison Clement, [/i...</td>\n",
       "      <td>(Thomas Cline, [judge.mhtml?judge_id=1985781&amp;t...</td>\n",
       "    </tr>\n",
       "    <tr>\n",
       "      <th>8</th>\n",
       "      <td>(Edmonds-Woodway Kaylee Meyers &amp; Audrey Gibson...</td>\n",
       "      <td>(Glacier Peak Naomi Varghese &amp; Maisha Shirazi,...</td>\n",
       "      <td>(Kaveh Dilmaghani, [judge.mhtml?judge_id=19669...</td>\n",
       "    </tr>\n",
       "    <tr>\n",
       "      <th>9</th>\n",
       "      <td>(Kamiakin Ryan Kirby &amp; Parker Vladimiroff, [/i...</td>\n",
       "      <td>(Bainbridge Evelyn Cantwell &amp; Eilise O'Hartiga...</td>\n",
       "      <td>(Ying Ning, [judge.mhtml?judge_id=1985315&amp;tour...</td>\n",
       "    </tr>\n",
       "    <tr>\n",
       "      <th>10</th>\n",
       "      <td>(Gonzaga Prep Griffin Satterfield &amp; Sophia McF...</td>\n",
       "      <td>(Gig Harbor Ellis Adamson &amp; Nichole Tian, [/in...</td>\n",
       "      <td>(Yanti Sanusi, [judge.mhtml?judge_id=1965391&amp;t...</td>\n",
       "    </tr>\n",
       "    <tr>\n",
       "      <th>11</th>\n",
       "      <td>(Mountlake Terrace Asenat Ghebru &amp; Laraine Sim...</td>\n",
       "      <td>(Battle Ground Mackenzie Heffner &amp; Marley Wing...</td>\n",
       "      <td>(Willow Smith, [judge.mhtml?judge_id=1980592&amp;t...</td>\n",
       "    </tr>\n",
       "    <tr>\n",
       "      <th>12</th>\n",
       "      <td>(Eastside Prep Emma Lorimer &amp; Raelin Engrav, [...</td>\n",
       "      <td>(Interlake Aileen Liang &amp; Jerry Li, [/index/to...</td>\n",
       "      <td>(Amber Schaak, [judge.mhtml?judge_id=1970215&amp;t...</td>\n",
       "    </tr>\n",
       "    <tr>\n",
       "      <th>13</th>\n",
       "      <td>(Shadle Park Jayden Nadreau &amp; daylynn oharran ...</td>\n",
       "      <td>(Tahoma Lachlan Bailey &amp; Jace Simon, [/index/t...</td>\n",
       "      <td>(Marc Cantwell, [judge.mhtml?judge_id=1987191&amp;...</td>\n",
       "    </tr>\n",
       "    <tr>\n",
       "      <th>14</th>\n",
       "      <td>(stacey Gapesina, [/index/tourn/postings/entry...</td>\n",
       "      <td>(Shadle Park Claire Bacon &amp; Mayumi Deguzman, [...</td>\n",
       "      <td>(Donald Hendrixson, [judge.mhtml?judge_id=1968...</td>\n",
       "    </tr>\n",
       "    <tr>\n",
       "      <th>15</th>\n",
       "      <td>(Ephrata Piper Fransisco &amp; Harper Grizzel, [/i...</td>\n",
       "      <td>(, [])</td>\n",
       "      <td>(1, [])</td>\n",
       "    </tr>\n",
       "  </tbody>\n",
       "</table>\n",
       "</div>"
      ],
      "text/plain": [
       "                                                       \\\n",
       "0   (Redmond Neha Mahesh & Nikki Taleghani, [/inde...   \n",
       "1   (Henrietta Lacks Health and Bioscience London ...   \n",
       "2   (Gonzaga Prep William Kladar & Max Johnson & S...   \n",
       "3   (Interlake Clarence Guo & Daniel Jung, [/index...   \n",
       "4   (Mt. Spokane Ellie Henshaw & Beau Tampien, [/i...   \n",
       "5   (Eastside Prep Zubin Oommen & Jack Little, [/i...   \n",
       "6   (Mount Vernon Dawn Rosas & Ailene Valles, [/in...   \n",
       "7   (Ferris Anvi Sehgal & Madeleine Schreiber, [/i...   \n",
       "8   (Edmonds-Woodway Kaylee Meyers & Audrey Gibson...   \n",
       "9   (Kamiakin Ryan Kirby & Parker Vladimiroff, [/i...   \n",
       "10  (Gonzaga Prep Griffin Satterfield & Sophia McF...   \n",
       "11  (Mountlake Terrace Asenat Ghebru & Laraine Sim...   \n",
       "12  (Eastside Prep Emma Lorimer & Raelin Engrav, [...   \n",
       "13  (Shadle Park Jayden Nadreau & daylynn oharran ...   \n",
       "14  (stacey Gapesina, [/index/tourn/postings/entry...   \n",
       "15  (Ephrata Piper Fransisco & Harper Grizzel, [/i...   \n",
       "\n",
       "                                                       \\\n",
       "0   (Overlake Ammar Ghouse & Caitrin Walker, [/ind...   \n",
       "1   (Ferris Ben Elrod & John Garten, [/index/tourn...   \n",
       "2   (Tahoma Rex Dugan & Hailey Sato, [/index/tourn...   \n",
       "3   (Overlake Musab Chummun & Erik Vank, [/index/t...   \n",
       "4   (Union Elliot Holden & Alice Schaak, [/index/t...   \n",
       "5   (Mountlake Terrace Nathaniel Ballard & Seth Me...   \n",
       "6   (Battle Ground Elizabeth McAleer & Clarity Coo...   \n",
       "7   (Gig Harbor Logan Thoms & Madison Clement, [/i...   \n",
       "8   (Glacier Peak Naomi Varghese & Maisha Shirazi,...   \n",
       "9   (Bainbridge Evelyn Cantwell & Eilise O'Hartiga...   \n",
       "10  (Gig Harbor Ellis Adamson & Nichole Tian, [/in...   \n",
       "11  (Battle Ground Mackenzie Heffner & Marley Wing...   \n",
       "12  (Interlake Aileen Liang & Jerry Li, [/index/to...   \n",
       "13  (Tahoma Lachlan Bailey & Jace Simon, [/index/t...   \n",
       "14  (Shadle Park Claire Bacon & Mayumi Deguzman, [...   \n",
       "15                                             (, [])   \n",
       "\n",
       "                                                Judge  \n",
       "0   (Hans Soderquist, [judge.mhtml?judge_id=197430...  \n",
       "1   (Girija Chintalapati, [judge.mhtml?judge_id=19...  \n",
       "2   (Emmett Simmons, [judge.mhtml?judge_id=1974939...  \n",
       "3   (Chris Price, [judge.mhtml?judge_id=1966977&to...  \n",
       "4   (Paul Lorimer, [judge.mhtml?judge_id=1979687&t...  \n",
       "5   (Amy Chapman, [judge.mhtml?judge_id=1985314&to...  \n",
       "6   (Skye Cordero, [judge.mhtml?judge_id=1971595&t...  \n",
       "7   (Thomas Cline, [judge.mhtml?judge_id=1985781&t...  \n",
       "8   (Kaveh Dilmaghani, [judge.mhtml?judge_id=19669...  \n",
       "9   (Ying Ning, [judge.mhtml?judge_id=1985315&tour...  \n",
       "10  (Yanti Sanusi, [judge.mhtml?judge_id=1965391&t...  \n",
       "11  (Willow Smith, [judge.mhtml?judge_id=1980592&t...  \n",
       "12  (Amber Schaak, [judge.mhtml?judge_id=1970215&t...  \n",
       "13  (Marc Cantwell, [judge.mhtml?judge_id=1987191&...  \n",
       "14  (Donald Hendrixson, [judge.mhtml?judge_id=1968...  \n",
       "15                                            (1, [])  "
      ]
     },
     "execution_count": 73,
     "metadata": {},
     "output_type": "execute_result"
    }
   ],
   "source": [
    "# Create a boolean mask of columns where the first row's second element is not an empty list\n",
    "columns_with_links = [idx for idx in range(len(df.columns)) if df.iloc[0, idx][1] != []]\n",
    "\n",
    "# Create a new DataFrame that only includes the filtered columns\n",
    "df_filtered = df.iloc[:, columns_with_links].copy()\n",
    "\n",
    "# Display the filtered DataFrame\n",
    "# print(df_filtered)\n",
    "df_filtered\n"
   ]
  },
  {
   "cell_type": "code",
   "execution_count": 74,
   "metadata": {},
   "outputs": [
    {
     "data": {
      "text/plain": [
       "(16, 3)"
      ]
     },
     "execution_count": 74,
     "metadata": {},
     "output_type": "execute_result"
    }
   ],
   "source": [
    "df_filtered.shape\n"
   ]
  },
  {
   "cell_type": "code",
   "execution_count": 75,
   "metadata": {},
   "outputs": [
    {
     "name": "stdout",
     "output_type": "stream",
     "text": [
      "('Overlake Ammar Ghouse & Caitrin Walker', ['/index/tourn/postings/entry_record.mhtml?tourn_id=26620&entry_id=4746833'])\n"
     ]
    },
    {
     "name": "stderr",
     "output_type": "stream",
     "text": [
      "/var/folders/6w/yqthf3cx1v1gtm_3th5g0nk00000gp/T/ipykernel_69748/3617904887.py:2: FutureWarning: Series.__getitem__ treating keys as positions is deprecated. In a future version, integer keys will always be treated as labels (consistent with DataFrame behavior). To access a value by position, use `ser.iloc[pos]`\n",
      "  print(i[1][1])\n"
     ]
    }
   ],
   "source": [
    "for i in list(df_filtered.iterrows())[:1]:\n",
    "\tprint(i[1][1])"
   ]
  },
  {
   "cell_type": "code",
   "execution_count": 129,
   "metadata": {},
   "outputs": [],
   "source": [
    "def create_judge(given_role, url, content, pairing_id, first_url):\n",
    "\tprint(url)\n",
    "\tresponse = requests.get('https://www.tabroom.com/index/tourn/postings/'+url)\n",
    "\t# soup = BeautifulSoup(response.text, 'html.parser')\n",
    "\t# first_table = soup.find('table')\n",
    "\t# print(f\"Judge: {content}\")\n",
    "\n",
    "def create_team(given_role, url, content, pairing_id):\n",
    "\tprint(f\"Team: {content}\")"
   ]
  },
  {
   "cell_type": "code",
   "execution_count": 130,
   "metadata": {},
   "outputs": [
    {
     "name": "stdout",
     "output_type": "stream",
     "text": [
      "Team: ('Henrietta Lacks Health and Bioscience London Lockwood & Kenneth', ['/index/tourn/postings/entry_record.mhtml?tourn_id=26620&entry_id=4778561'])\n",
      "Team: ('Ferris Ben Elrod & John Garten', ['/index/tourn/postings/entry_record.mhtml?tourn_id=26620&entry_id=4756380'])\n",
      "judge.mhtml?judge_id=1985922&tourn_id=26620\n"
     ]
    }
   ],
   "source": [
    "def create_team_or_judge(given_role, content, pairing_id, first_url):\n",
    "\turl = content[1][0]\n",
    "\tif url.split(\".\")[0]=='judge':\n",
    "\t\tcreate_judge(given_role, url, content, pairing_id, first_url)\n",
    "\telse:\n",
    "\t\tcreate_team(given_role, url, content, pairing_id)\n",
    "\n",
    "# TODO make this function spawn a bunch of concurent processes or better yet make a work pool\n",
    "for match in list(df_filtered.itertuples())[1:2]:\n",
    "\tif 'judge' not in str(match):\n",
    "\t\tprint(match, \" is a bye\")\n",
    "\t\t# return\n",
    "\tfirst_url = match[1][1][0]\n",
    "\t# TODO check if there is an exisitng pairing with the same division, tournament, and first ulr, if not,\n",
    "\t# TODO make pairing row and pass its id to create team or judge\n",
    "\tpairing_id = 1\n",
    "\tfor index, content in enumerate(match[1:]):\n",
    "\t\trole = df_filtered.columns[index]\n",
    "\t\tif role == '': role = 'Competitor'\n",
    "\t\tcreate_team_or_judge(role, content, pairing_id, first_url)\n"
   ]
  },
  {
   "cell_type": "markdown",
   "metadata": {},
   "source": [
    "# Create Judges Record"
   ]
  },
  {
   "cell_type": "markdown",
   "metadata": {},
   "source": [
    "# Create Teams Record"
   ]
  }
 ],
 "metadata": {
  "kernelspec": {
   "display_name": ".venv",
   "language": "python",
   "name": "python3"
  },
  "language_info": {
   "codemirror_mode": {
    "name": "ipython",
    "version": 3
   },
   "file_extension": ".py",
   "mimetype": "text/x-python",
   "name": "python",
   "nbconvert_exporter": "python",
   "pygments_lexer": "ipython3",
   "version": "3.9.6"
  }
 },
 "nbformat": 4,
 "nbformat_minor": 2
}
