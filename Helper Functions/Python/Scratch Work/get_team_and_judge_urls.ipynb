{
 "cells": [
  {
   "cell_type": "markdown",
   "metadata": {},
   "source": [
    "Either a judge or a division will spawn a bunch of teams and judges\n",
    "\n",
    "a team will spawn one or more debaters\n",
    "\n",
    "a judge will spawn one or more votes and one or more pairings\n",
    "\n",
    "a pairing.judge will not necacarily have a public.judge"
   ]
  },
  {
   "cell_type": "code",
   "execution_count": 1,
   "metadata": {},
   "outputs": [],
   "source": [
    "# goal find URL and to scrape for each team and judge given division ID"
   ]
  },
  {
   "cell_type": "code",
   "execution_count": 5,
   "metadata": {},
   "outputs": [
    {
     "data": {
      "text/plain": [
       "(['https://www.tabroom.com/index/tourn/postings/entry_record.mhtml?tourn_id=26620&entry_id=4767468',\n",
       "  'https://www.tabroom.com/index/tourn/postings/entry_record.mhtml?tourn_id=26620&entry_id=4740444',\n",
       "  'https://www.tabroom.com/index/tourn/postings/entry_record.mhtml?tourn_id=26620&entry_id=4756380',\n",
       "  'https://www.tabroom.com/index/tourn/postings/entry_record.mhtml?tourn_id=26620&entry_id=4750045',\n",
       "  'https://www.tabroom.com/index/tourn/postings/entry_record.mhtml?tourn_id=26620&entry_id=4770005',\n",
       "  'https://www.tabroom.com/index/tourn/postings/entry_record.mhtml?tourn_id=26620&entry_id=4754859',\n",
       "  'https://www.tabroom.com/index/tourn/postings/entry_record.mhtml?tourn_id=26620&entry_id=4746833',\n",
       "  'https://www.tabroom.com/index/tourn/postings/entry_record.mhtml?tourn_id=26620&entry_id=4747093',\n",
       "  'https://www.tabroom.com/index/tourn/postings/entry_record.mhtml?tourn_id=26620&entry_id=4767467',\n",
       "  'https://www.tabroom.com/index/tourn/postings/entry_record.mhtml?tourn_id=26620&entry_id=4763998',\n",
       "  'https://www.tabroom.com/index/tourn/postings/entry_record.mhtml?tourn_id=26620&entry_id=4764001',\n",
       "  'https://www.tabroom.com/index/tourn/postings/entry_record.mhtml?tourn_id=26620&entry_id=4749110',\n",
       "  'https://www.tabroom.com/index/tourn/postings/entry_record.mhtml?tourn_id=26620&entry_id=4746834',\n",
       "  'https://www.tabroom.com/index/tourn/postings/entry_record.mhtml?tourn_id=26620&entry_id=4754928',\n",
       "  'https://www.tabroom.com/index/tourn/postings/entry_record.mhtml?tourn_id=26620&entry_id=4742940',\n",
       "  'https://www.tabroom.com/index/tourn/postings/entry_record.mhtml?tourn_id=26620&entry_id=4739638',\n",
       "  'https://www.tabroom.com/index/tourn/postings/entry_record.mhtml?tourn_id=26620&entry_id=4768841',\n",
       "  'https://www.tabroom.com/index/tourn/postings/entry_record.mhtml?tourn_id=26620&entry_id=4757060',\n",
       "  'https://www.tabroom.com/index/tourn/postings/entry_record.mhtml?tourn_id=26620&entry_id=4756385',\n",
       "  'https://www.tabroom.com/index/tourn/postings/entry_record.mhtml?tourn_id=26620&entry_id=4778561',\n",
       "  'https://www.tabroom.com/index/tourn/postings/entry_record.mhtml?tourn_id=26620&entry_id=4768165',\n",
       "  'https://www.tabroom.com/index/tourn/postings/entry_record.mhtml?tourn_id=26620&entry_id=4754932',\n",
       "  'https://www.tabroom.com/index/tourn/postings/entry_record.mhtml?tourn_id=26620&entry_id=4768842',\n",
       "  'https://www.tabroom.com/index/tourn/postings/entry_record.mhtml?tourn_id=26620&entry_id=4743982',\n",
       "  'https://www.tabroom.com/index/tourn/postings/entry_record.mhtml?tourn_id=26620&entry_id=4743980',\n",
       "  'https://www.tabroom.com/index/tourn/postings/entry_record.mhtml?tourn_id=26620&entry_id=4745903',\n",
       "  'https://www.tabroom.com/index/tourn/postings/entry_record.mhtml?tourn_id=26620&entry_id=4770004',\n",
       "  'https://www.tabroom.com/index/tourn/postings/entry_record.mhtml?tourn_id=26620&entry_id=4752271',\n",
       "  'https://www.tabroom.com/index/tourn/postings/entry_record.mhtml?tourn_id=26620&entry_id=4742941',\n",
       "  'https://www.tabroom.com/index/tourn/postings/entry_record.mhtml?tourn_id=26620&entry_id=4745902',\n",
       "  'https://www.tabroom.com/index/tourn/postings/entry_record.mhtml?tourn_id=26620&entry_id=4749319'],\n",
       " ['https://www.tabroom.com/index/tourn/postings/judge.mhtml?judge_id=1987735&tourn_id=26620',\n",
       "  'https://www.tabroom.com/index/tourn/postings/judge.mhtml?judge_id=1968869&tourn_id=26620',\n",
       "  'https://www.tabroom.com/index/tourn/postings/judge.mhtml?judge_id=1985922&tourn_id=26620',\n",
       "  'https://www.tabroom.com/index/tourn/postings/judge.mhtml?judge_id=1970993&tourn_id=26620',\n",
       "  'https://www.tabroom.com/index/tourn/postings/judge.mhtml?judge_id=1979687&tourn_id=26620',\n",
       "  'https://www.tabroom.com/index/tourn/postings/judge.mhtml?judge_id=1985775&tourn_id=26620',\n",
       "  'https://www.tabroom.com/index/tourn/postings/judge.mhtml?judge_id=1964234&tourn_id=26620',\n",
       "  'https://www.tabroom.com/index/tourn/postings/judge.mhtml?judge_id=1985781&tourn_id=26620',\n",
       "  'https://www.tabroom.com/index/tourn/postings/judge.mhtml?judge_id=1966003&tourn_id=26620',\n",
       "  'https://www.tabroom.com/index/tourn/postings/judge.mhtml?judge_id=1977179&tourn_id=26620',\n",
       "  'https://www.tabroom.com/index/tourn/postings/judge.mhtml?judge_id=1985717&tourn_id=26620',\n",
       "  'https://www.tabroom.com/index/tourn/postings/judge.mhtml?judge_id=1966975&tourn_id=26620',\n",
       "  'https://www.tabroom.com/index/tourn/postings/judge.mhtml?judge_id=1970215&tourn_id=26620',\n",
       "  'https://www.tabroom.com/index/tourn/postings/judge.mhtml?judge_id=1982402&tourn_id=26620',\n",
       "  'https://www.tabroom.com/index/tourn/postings/judge.mhtml?judge_id=1980592&tourn_id=26620'])"
      ]
     },
     "execution_count": 5,
     "metadata": {},
     "output_type": "execute_result"
    }
   ],
   "source": [
    "import requests\n",
    "from bs4 import BeautifulSoup\n",
    "import urllib.parse\n",
    "\n",
    "url = \"https://www.tabroom.com/index/tourn/postings/round.mhtml?tourn_id=26620&round_id=981119\"\n",
    "\n",
    "def get_team_and_judge_urls_from_division(url):\n",
    "\tteam_urls,judge_urls = [], []\n",
    "\n",
    "\t# Send a GET request to the URL\n",
    "\tresponse = requests.get(url)\n",
    "\n",
    "\t# Check if the request was successful\n",
    "\tif response.status_code == 200:\n",
    "\t\tsoup = BeautifulSoup(response.text, 'html.parser')\n",
    "\t\tlinks = soup.find_all('a')\n",
    "\n",
    "\t\t# Loop through all found <a> tags\n",
    "\t\tfor link in links:\n",
    "\t\t\thref = link.get('href')  # Get the href attribute of each <a> tag\n",
    "\t\t\tif href:  # If href exists, add it to the list of URLs\n",
    "\t\t\t\tfull_url = urllib.parse.urljoin(url, href)\n",
    "\t\t\t\tif 'entry_record' in full_url:\n",
    "\t\t\t\t\tteam_urls.append(full_url)\n",
    "\t\t\t\telif 'judge.mhtml' in full_url:\n",
    "\t\t\t\t\tjudge_urls.append(full_url)\n",
    "\telse:\n",
    "\t\tprint(f\"Failed to retrieve the page. Status code: {response.status_code}\")\n",
    "\treturn team_urls, judge_urls\n",
    "\n",
    "get_team_and_judge_urls_from_division(url)"
   ]
  },
  {
   "cell_type": "code",
   "execution_count": null,
   "metadata": {},
   "outputs": [],
   "source": []
  }
 ],
 "metadata": {
  "kernelspec": {
   "display_name": ".venv",
   "language": "python",
   "name": "python3"
  },
  "language_info": {
   "codemirror_mode": {
    "name": "ipython",
    "version": 3
   },
   "file_extension": ".py",
   "mimetype": "text/x-python",
   "name": "python",
   "nbconvert_exporter": "python",
   "pygments_lexer": "ipython3",
   "version": "3.9.6"
  }
 },
 "nbformat": 4,
 "nbformat_minor": 2
}
