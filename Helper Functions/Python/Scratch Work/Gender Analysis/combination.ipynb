{
 "cells": [
  {
   "cell_type": "code",
   "execution_count": 10,
   "metadata": {},
   "outputs": [
    {
     "name": "stdout",
     "output_type": "stream",
     "text": [
      "combination.ipynb  gender_compendium.csv  \u001b[0m\u001b[01;34mnames\u001b[0m/\n"
     ]
    }
   ],
   "source": [
    "import pandas as pd\n",
    "import os\n",
    "import requests, zipfile, io, shutil\n",
    "if os.path.exists(\"names\"):\n",
    "    shutil.rmtree(\"names\")\n",
    "os.mkdir(\"names\")\n",
    "source = \"https://www.ssa.gov/oact/babynames/names.zip\"\n",
    "req = requests.get(source, stream=True)\n",
    "z = zipfile.ZipFile(io.BytesIO(req.content))\n",
    "z.extractall(\"names\")"
   ]
  },
  {
   "cell_type": "markdown",
   "metadata": {},
   "source": [
    "# Part 1: Reading files\n",
    "\n",
    "## Schema: \n",
    "- NAME (index): (total Men), (total Women)"
   ]
  },
  {
   "cell_type": "code",
   "execution_count": 11,
   "metadata": {},
   "outputs": [],
   "source": [
    "dataframes = []\n",
    "for filename in os.listdir('names'):\n",
    "    if not filename.endswith(\".txt\"):\n",
    "        continue\n",
    "    df = pd.read_csv(\"names/\"+filename, header=None, names=[\"name\", \"sex\", \"count\"])\n",
    "    dataframes.append(df)\n",
    "\n",
    "df = pd.concat(dataframes)\n",
    "df = df.groupby([\"name\", \"sex\"], as_index=False).sum()\n",
    "\n",
    "df = df.pivot(index='name', columns='sex', values='count').fillna(0)\n",
    "df.columns = [\"F\", \"M\"]\n",
    "df.reset_index(inplace=True)\n",
    "df = df[[\"name\", \"M\", \"F\"]]\n",
    "df = df.astype({\"M\": int, \"F\": int})\n",
    "\n",
    "df.to_csv(\"gender_compendium.csv\", index=False, header=False)"
   ]
  },
  {
   "cell_type": "code",
   "execution_count": null,
   "metadata": {},
   "outputs": [],
   "source": [
    "def build_compendium():\n",
    "    if os.path.exists(\"names\"):\n",
    "        shutil.rmtree(\"names\")\n",
    "    os.mkdir(\"names\")\n",
    "    source = \"https://www.ssa.gov/oact/babynames/names.zip\"\n",
    "    req = requests.get(source, stream=True)\n",
    "    z = zipfile.ZipFile(io.BytesIO(req.content))\n",
    "    z.extractall(\"names\")\n",
    "    \n",
    "    dataframes = []\n",
    "    for filename in os.listdir('names'):\n",
    "        if not filename.endswith(\".txt\"):\n",
    "            continue\n",
    "        df = pd.read_csv(\"names/\"+filename, header=None, names=[\"name\", \"sex\", \"count\"])\n",
    "        dataframes.append(df)\n",
    "\n",
    "        df = pd.concat(dataframes)\n",
    "        df = df.groupby([\"name\", \"sex\"], as_index=False).sum()\n",
    "\n",
    "        df = df.pivot(index='name', columns='sex', values='count').fillna(0)\n",
    "        df.columns = [\"F\", \"M\"]\n",
    "        df.reset_index(inplace=True)\n",
    "        df = df[[\"name\", \"M\", \"F\"]]\n",
    "        df = df.astype({\"M\": int, \"F\": int})\n",
    "\n",
    "        df.to_csv(\"gender_compendium.csv\", index=False, header=False)"
   ]
  },
  {
   "cell_type": "code",
   "execution_count": 17,
   "metadata": {},
   "outputs": [],
   "source": [
    "import pandas as pd\n",
    "import os\n",
    "import requests, zipfile, io, shutil\n",
    "\n",
    "class Genderizer:\n",
    "    df: pd.DataFrame = None\n",
    "    \n",
    "    def __init__(self, path: str = \"gender_compendium.csv\"):\n",
    "        if not os.path.exists(path):\n",
    "            self.df = self.build_compendium()\n",
    "        else:\n",
    "            self.df = pd.read_csv(path)\n",
    "\n",
    "    def build_compendium(self) -> pd.DataFrame:\n",
    "        if os.path.exists(\"names\"):\n",
    "            shutil.rmtree(\"names\")\n",
    "        os.mkdir(\"names\")\n",
    "        source = \"https://www.ssa.gov/oact/babynames/names.zip\"\n",
    "        req = requests.get(source, stream=True)\n",
    "        z = zipfile.ZipFile(io.BytesIO(req.content))\n",
    "        z.extractall(\"names\")\n",
    "\n",
    "        dataframes = []\n",
    "        for filename in os.listdir('names'):\n",
    "            if not filename.endswith(\".txt\"):\n",
    "                continue\n",
    "            df = pd.read_csv(\"names/\"+filename, header=None, names=[\"name\", \"sex\", \"count\"])\n",
    "            dataframes.append(df)\n",
    "\n",
    "            df = pd.concat(dataframes)\n",
    "            df = df.groupby([\"name\", \"sex\"], as_index=False).sum()\n",
    "\n",
    "            df = df.pivot(index='name', columns='sex', values='count').fillna(0)\n",
    "            df.columns = [\"F\", \"M\"]\n",
    "            df.reset_index(inplace=True)\n",
    "            df = df[[\"name\", \"M\", \"F\"]]\n",
    "            df = df.astype({\"M\": int, \"F\": int})\n",
    "\n",
    "            df.to_csv(\"gender_compendium.csv\", index=False)\n",
    "            shutil.rmtree(\"names\")\n",
    "            return df\n",
    "\n",
    "    def gender(self, name: str) -> dict[str, int]:\n",
    "        name = name.capitalize()\n",
    "        row = self.df[self.df[\"name\"] == name]\n",
    "        if row.empty:\n",
    "            return self.request_gender(name)\n",
    "        m = int(row[\"M\"].values[0])\n",
    "        f = int(row[\"F\"].values[0])\n",
    "        if m > f:\n",
    "            return {\"gender\": \"M\", \"prob\": m/(m+f), \"count\": m+f}\n",
    "        elif f > m:\n",
    "            return {\"gender\": \"F\", \"prob\": f/(m+f), \"count\": m+f}\n",
    "        else :\n",
    "            return {\"gender\": \"U\", \"prob\": 0.5, \"count\": m+f}\n",
    "\n",
    "    def request_gender(self, name: str) -> dict[str, int]:\n",
    "        name = name.capitalize()\n",
    "        url = f\"https://api.genderize.io?name={name}\"\n",
    "        response = requests.get(url)\n",
    "        data = response.json()\n",
    "        gender = \"M\" if data[\"gender\"] == \"male\" else \"F\"\n",
    "        return {\"gender\": gender, \"prob\": data[\"probability\"], \"count\": data[\"count\"]}\n",
    "        \n",
    "    def genders(self, names: list[str]) -> dict[str, dict[str, int]]:\n",
    "        return {name: self.gender(name) for name in names}"
   ]
  },
  {
   "cell_type": "code",
   "execution_count": 20,
   "metadata": {},
   "outputs": [
    {
     "name": "stdout",
     "output_type": "stream",
     "text": [
      "{'gender': 'F', 'prob': 0.9969630412972152, 'count': 73758}\n",
      "{'mary': {'gender': 'F', 'prob': 0.9969630412972152, 'count': 73758}, 'www': {'gender': 'M', 'prob': 0.63, 'count': 2956}}\n"
     ]
    }
   ],
   "source": [
    "gender = Genderizer()\n",
    "\n",
    "print(gender.gender(\"mary\"))\n",
    "print(gender.genders([\"mary\", \"www\"]))"
   ]
  }
 ],
 "metadata": {
  "kernelspec": {
   "display_name": "Python 3",
   "language": "python",
   "name": "python3"
  },
  "language_info": {
   "codemirror_mode": {
    "name": "ipython",
    "version": 3
   },
   "file_extension": ".py",
   "mimetype": "text/x-python",
   "name": "python",
   "nbconvert_exporter": "python",
   "pygments_lexer": "ipython3",
   "version": "3.10.12"
  }
 },
 "nbformat": 4,
 "nbformat_minor": 2
}
