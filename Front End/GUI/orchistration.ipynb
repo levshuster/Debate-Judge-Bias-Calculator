{
 "cells": [
  {
   "cell_type": "code",
   "execution_count": 1,
   "metadata": {},
   "outputs": [
    {
     "name": "stdout",
     "output_type": "stream",
     "text": [
      "Requirement already satisfied: streamlit==1.38.0 in /Users/lshuster/Library/CloudStorage/OneDrive-GlobalHealthcareExchange/Desktop/debate bias/Debate-Judge-Bias-Calculator/.venv/lib/python3.9/site-packages (from -r requirements.txt (line 1)) (1.38.0)\n",
      "Requirement already satisfied: watchdog==5.0.2 in /Users/lshuster/Library/CloudStorage/OneDrive-GlobalHealthcareExchange/Desktop/debate bias/Debate-Judge-Bias-Calculator/.venv/lib/python3.9/site-packages (from -r requirements.txt (line 2)) (5.0.2)\n",
      "Requirement already satisfied: psycopg2-binary==2.9.9 in /Users/lshuster/Library/CloudStorage/OneDrive-GlobalHealthcareExchange/Desktop/debate bias/Debate-Judge-Bias-Calculator/.venv/lib/python3.9/site-packages (from -r requirements.txt (line 3)) (2.9.9)\n",
      "Requirement already satisfied: sqlalchemy==2.0.34 in /Users/lshuster/Library/CloudStorage/OneDrive-GlobalHealthcareExchange/Desktop/debate bias/Debate-Judge-Bias-Calculator/.venv/lib/python3.9/site-packages (from -r requirements.txt (line 4)) (2.0.34)\n",
      "Requirement already satisfied: altair<6,>=4.0 in /Users/lshuster/Library/CloudStorage/OneDrive-GlobalHealthcareExchange/Desktop/debate bias/Debate-Judge-Bias-Calculator/.venv/lib/python3.9/site-packages (from streamlit==1.38.0->-r requirements.txt (line 1)) (5.4.1)\n",
      "Requirement already satisfied: blinker<2,>=1.0.0 in /Users/lshuster/Library/CloudStorage/OneDrive-GlobalHealthcareExchange/Desktop/debate bias/Debate-Judge-Bias-Calculator/.venv/lib/python3.9/site-packages (from streamlit==1.38.0->-r requirements.txt (line 1)) (1.8.2)\n",
      "Requirement already satisfied: cachetools<6,>=4.0 in /Users/lshuster/Library/CloudStorage/OneDrive-GlobalHealthcareExchange/Desktop/debate bias/Debate-Judge-Bias-Calculator/.venv/lib/python3.9/site-packages (from streamlit==1.38.0->-r requirements.txt (line 1)) (5.5.0)\n",
      "Requirement already satisfied: click<9,>=7.0 in /Users/lshuster/Library/CloudStorage/OneDrive-GlobalHealthcareExchange/Desktop/debate bias/Debate-Judge-Bias-Calculator/.venv/lib/python3.9/site-packages (from streamlit==1.38.0->-r requirements.txt (line 1)) (8.1.7)\n",
      "Requirement already satisfied: numpy<3,>=1.20 in /Users/lshuster/Library/CloudStorage/OneDrive-GlobalHealthcareExchange/Desktop/debate bias/Debate-Judge-Bias-Calculator/.venv/lib/python3.9/site-packages (from streamlit==1.38.0->-r requirements.txt (line 1)) (2.0.2)\n",
      "Requirement already satisfied: packaging<25,>=20 in /Users/lshuster/Library/CloudStorage/OneDrive-GlobalHealthcareExchange/Desktop/debate bias/Debate-Judge-Bias-Calculator/.venv/lib/python3.9/site-packages (from streamlit==1.38.0->-r requirements.txt (line 1)) (24.1)\n",
      "Requirement already satisfied: pandas<3,>=1.3.0 in /Users/lshuster/Library/CloudStorage/OneDrive-GlobalHealthcareExchange/Desktop/debate bias/Debate-Judge-Bias-Calculator/.venv/lib/python3.9/site-packages (from streamlit==1.38.0->-r requirements.txt (line 1)) (2.2.2)\n",
      "Requirement already satisfied: pillow<11,>=7.1.0 in /Users/lshuster/Library/CloudStorage/OneDrive-GlobalHealthcareExchange/Desktop/debate bias/Debate-Judge-Bias-Calculator/.venv/lib/python3.9/site-packages (from streamlit==1.38.0->-r requirements.txt (line 1)) (10.4.0)\n",
      "Requirement already satisfied: protobuf<6,>=3.20 in /Users/lshuster/Library/CloudStorage/OneDrive-GlobalHealthcareExchange/Desktop/debate bias/Debate-Judge-Bias-Calculator/.venv/lib/python3.9/site-packages (from streamlit==1.38.0->-r requirements.txt (line 1)) (5.28.0)\n",
      "Requirement already satisfied: pyarrow>=7.0 in /Users/lshuster/Library/CloudStorage/OneDrive-GlobalHealthcareExchange/Desktop/debate bias/Debate-Judge-Bias-Calculator/.venv/lib/python3.9/site-packages (from streamlit==1.38.0->-r requirements.txt (line 1)) (17.0.0)\n",
      "Requirement already satisfied: requests<3,>=2.27 in /Users/lshuster/Library/CloudStorage/OneDrive-GlobalHealthcareExchange/Desktop/debate bias/Debate-Judge-Bias-Calculator/.venv/lib/python3.9/site-packages (from streamlit==1.38.0->-r requirements.txt (line 1)) (2.32.3)\n",
      "Requirement already satisfied: rich<14,>=10.14.0 in /Users/lshuster/Library/CloudStorage/OneDrive-GlobalHealthcareExchange/Desktop/debate bias/Debate-Judge-Bias-Calculator/.venv/lib/python3.9/site-packages (from streamlit==1.38.0->-r requirements.txt (line 1)) (13.8.0)\n",
      "Requirement already satisfied: tenacity<9,>=8.1.0 in /Users/lshuster/Library/CloudStorage/OneDrive-GlobalHealthcareExchange/Desktop/debate bias/Debate-Judge-Bias-Calculator/.venv/lib/python3.9/site-packages (from streamlit==1.38.0->-r requirements.txt (line 1)) (8.5.0)\n",
      "Requirement already satisfied: toml<2,>=0.10.1 in /Users/lshuster/Library/CloudStorage/OneDrive-GlobalHealthcareExchange/Desktop/debate bias/Debate-Judge-Bias-Calculator/.venv/lib/python3.9/site-packages (from streamlit==1.38.0->-r requirements.txt (line 1)) (0.10.2)\n",
      "Requirement already satisfied: typing-extensions<5,>=4.3.0 in /Users/lshuster/Library/CloudStorage/OneDrive-GlobalHealthcareExchange/Desktop/debate bias/Debate-Judge-Bias-Calculator/.venv/lib/python3.9/site-packages (from streamlit==1.38.0->-r requirements.txt (line 1)) (4.12.2)\n",
      "Requirement already satisfied: gitpython!=3.1.19,<4,>=3.0.7 in /Users/lshuster/Library/CloudStorage/OneDrive-GlobalHealthcareExchange/Desktop/debate bias/Debate-Judge-Bias-Calculator/.venv/lib/python3.9/site-packages (from streamlit==1.38.0->-r requirements.txt (line 1)) (3.1.43)\n",
      "Requirement already satisfied: pydeck<1,>=0.8.0b4 in /Users/lshuster/Library/CloudStorage/OneDrive-GlobalHealthcareExchange/Desktop/debate bias/Debate-Judge-Bias-Calculator/.venv/lib/python3.9/site-packages (from streamlit==1.38.0->-r requirements.txt (line 1)) (0.9.1)\n",
      "Requirement already satisfied: tornado<7,>=6.0.3 in /Users/lshuster/Library/CloudStorage/OneDrive-GlobalHealthcareExchange/Desktop/debate bias/Debate-Judge-Bias-Calculator/.venv/lib/python3.9/site-packages (from streamlit==1.38.0->-r requirements.txt (line 1)) (6.4.1)\n",
      "Requirement already satisfied: jinja2 in /Users/lshuster/Library/CloudStorage/OneDrive-GlobalHealthcareExchange/Desktop/debate bias/Debate-Judge-Bias-Calculator/.venv/lib/python3.9/site-packages (from altair<6,>=4.0->streamlit==1.38.0->-r requirements.txt (line 1)) (3.1.4)\n",
      "Requirement already satisfied: jsonschema>=3.0 in /Users/lshuster/Library/CloudStorage/OneDrive-GlobalHealthcareExchange/Desktop/debate bias/Debate-Judge-Bias-Calculator/.venv/lib/python3.9/site-packages (from altair<6,>=4.0->streamlit==1.38.0->-r requirements.txt (line 1)) (4.23.0)\n",
      "Requirement already satisfied: narwhals>=1.5.2 in /Users/lshuster/Library/CloudStorage/OneDrive-GlobalHealthcareExchange/Desktop/debate bias/Debate-Judge-Bias-Calculator/.venv/lib/python3.9/site-packages (from altair<6,>=4.0->streamlit==1.38.0->-r requirements.txt (line 1)) (1.6.2)\n",
      "Requirement already satisfied: gitdb<5,>=4.0.1 in /Users/lshuster/Library/CloudStorage/OneDrive-GlobalHealthcareExchange/Desktop/debate bias/Debate-Judge-Bias-Calculator/.venv/lib/python3.9/site-packages (from gitpython!=3.1.19,<4,>=3.0.7->streamlit==1.38.0->-r requirements.txt (line 1)) (4.0.11)\n",
      "Requirement already satisfied: python-dateutil>=2.8.2 in /Users/lshuster/Library/CloudStorage/OneDrive-GlobalHealthcareExchange/Desktop/debate bias/Debate-Judge-Bias-Calculator/.venv/lib/python3.9/site-packages (from pandas<3,>=1.3.0->streamlit==1.38.0->-r requirements.txt (line 1)) (2.9.0.post0)\n",
      "Requirement already satisfied: pytz>=2020.1 in /Users/lshuster/Library/CloudStorage/OneDrive-GlobalHealthcareExchange/Desktop/debate bias/Debate-Judge-Bias-Calculator/.venv/lib/python3.9/site-packages (from pandas<3,>=1.3.0->streamlit==1.38.0->-r requirements.txt (line 1)) (2024.1)\n",
      "Requirement already satisfied: tzdata>=2022.7 in /Users/lshuster/Library/CloudStorage/OneDrive-GlobalHealthcareExchange/Desktop/debate bias/Debate-Judge-Bias-Calculator/.venv/lib/python3.9/site-packages (from pandas<3,>=1.3.0->streamlit==1.38.0->-r requirements.txt (line 1)) (2024.1)\n",
      "Requirement already satisfied: charset-normalizer<4,>=2 in /Users/lshuster/Library/CloudStorage/OneDrive-GlobalHealthcareExchange/Desktop/debate bias/Debate-Judge-Bias-Calculator/.venv/lib/python3.9/site-packages (from requests<3,>=2.27->streamlit==1.38.0->-r requirements.txt (line 1)) (3.3.2)\n",
      "Requirement already satisfied: idna<4,>=2.5 in /Users/lshuster/Library/CloudStorage/OneDrive-GlobalHealthcareExchange/Desktop/debate bias/Debate-Judge-Bias-Calculator/.venv/lib/python3.9/site-packages (from requests<3,>=2.27->streamlit==1.38.0->-r requirements.txt (line 1)) (3.8)\n",
      "Requirement already satisfied: urllib3<3,>=1.21.1 in /Users/lshuster/Library/CloudStorage/OneDrive-GlobalHealthcareExchange/Desktop/debate bias/Debate-Judge-Bias-Calculator/.venv/lib/python3.9/site-packages (from requests<3,>=2.27->streamlit==1.38.0->-r requirements.txt (line 1)) (2.2.2)\n",
      "Requirement already satisfied: certifi>=2017.4.17 in /Users/lshuster/Library/CloudStorage/OneDrive-GlobalHealthcareExchange/Desktop/debate bias/Debate-Judge-Bias-Calculator/.venv/lib/python3.9/site-packages (from requests<3,>=2.27->streamlit==1.38.0->-r requirements.txt (line 1)) (2024.8.30)\n",
      "Requirement already satisfied: markdown-it-py>=2.2.0 in /Users/lshuster/Library/CloudStorage/OneDrive-GlobalHealthcareExchange/Desktop/debate bias/Debate-Judge-Bias-Calculator/.venv/lib/python3.9/site-packages (from rich<14,>=10.14.0->streamlit==1.38.0->-r requirements.txt (line 1)) (3.0.0)\n",
      "Requirement already satisfied: pygments<3.0.0,>=2.13.0 in /Users/lshuster/Library/CloudStorage/OneDrive-GlobalHealthcareExchange/Desktop/debate bias/Debate-Judge-Bias-Calculator/.venv/lib/python3.9/site-packages (from rich<14,>=10.14.0->streamlit==1.38.0->-r requirements.txt (line 1)) (2.18.0)\n",
      "Requirement already satisfied: smmap<6,>=3.0.1 in /Users/lshuster/Library/CloudStorage/OneDrive-GlobalHealthcareExchange/Desktop/debate bias/Debate-Judge-Bias-Calculator/.venv/lib/python3.9/site-packages (from gitdb<5,>=4.0.1->gitpython!=3.1.19,<4,>=3.0.7->streamlit==1.38.0->-r requirements.txt (line 1)) (5.0.1)\n",
      "Requirement already satisfied: MarkupSafe>=2.0 in /Users/lshuster/Library/CloudStorage/OneDrive-GlobalHealthcareExchange/Desktop/debate bias/Debate-Judge-Bias-Calculator/.venv/lib/python3.9/site-packages (from jinja2->altair<6,>=4.0->streamlit==1.38.0->-r requirements.txt (line 1)) (2.1.5)\n",
      "Requirement already satisfied: attrs>=22.2.0 in /Users/lshuster/Library/CloudStorage/OneDrive-GlobalHealthcareExchange/Desktop/debate bias/Debate-Judge-Bias-Calculator/.venv/lib/python3.9/site-packages (from jsonschema>=3.0->altair<6,>=4.0->streamlit==1.38.0->-r requirements.txt (line 1)) (24.2.0)\n",
      "Requirement already satisfied: jsonschema-specifications>=2023.03.6 in /Users/lshuster/Library/CloudStorage/OneDrive-GlobalHealthcareExchange/Desktop/debate bias/Debate-Judge-Bias-Calculator/.venv/lib/python3.9/site-packages (from jsonschema>=3.0->altair<6,>=4.0->streamlit==1.38.0->-r requirements.txt (line 1)) (2023.12.1)\n",
      "Requirement already satisfied: referencing>=0.28.4 in /Users/lshuster/Library/CloudStorage/OneDrive-GlobalHealthcareExchange/Desktop/debate bias/Debate-Judge-Bias-Calculator/.venv/lib/python3.9/site-packages (from jsonschema>=3.0->altair<6,>=4.0->streamlit==1.38.0->-r requirements.txt (line 1)) (0.35.1)\n",
      "Requirement already satisfied: rpds-py>=0.7.1 in /Users/lshuster/Library/CloudStorage/OneDrive-GlobalHealthcareExchange/Desktop/debate bias/Debate-Judge-Bias-Calculator/.venv/lib/python3.9/site-packages (from jsonschema>=3.0->altair<6,>=4.0->streamlit==1.38.0->-r requirements.txt (line 1)) (0.20.0)\n",
      "Requirement already satisfied: mdurl~=0.1 in /Users/lshuster/Library/CloudStorage/OneDrive-GlobalHealthcareExchange/Desktop/debate bias/Debate-Judge-Bias-Calculator/.venv/lib/python3.9/site-packages (from markdown-it-py>=2.2.0->rich<14,>=10.14.0->streamlit==1.38.0->-r requirements.txt (line 1)) (0.1.2)\n",
      "Requirement already satisfied: six>=1.5 in /Users/lshuster/Library/CloudStorage/OneDrive-GlobalHealthcareExchange/Desktop/debate bias/Debate-Judge-Bias-Calculator/.venv/lib/python3.9/site-packages (from python-dateutil>=2.8.2->pandas<3,>=1.3.0->streamlit==1.38.0->-r requirements.txt (line 1)) (1.16.0)\n",
      "Note: you may need to restart the kernel to use updated packages.\n"
     ]
    }
   ],
   "source": [
    "%pip install -r requirements.txt"
   ]
  },
  {
   "cell_type": "code",
   "execution_count": 2,
   "metadata": {},
   "outputs": [
    {
     "name": "stdout",
     "output_type": "stream",
     "text": [
      "\u001b[0m\n",
      "\u001b[34m\u001b[1m  You can now view your Streamlit app in your browser.\u001b[0m\n",
      "\u001b[0m\n",
      "\u001b[34m  Local URL: \u001b[0m\u001b[1mhttp://localhost:8501\u001b[0m\n",
      "\u001b[34m  Network URL: \u001b[0m\u001b[1mhttp://192.168.68.55:8501\u001b[0m\n",
      "\u001b[0m\n",
      "^C\n",
      "\u001b[34m  Stopping...\u001b[0m\n"
     ]
    }
   ],
   "source": [
    "!streamlit run Home.py"
   ]
  }
 ],
 "metadata": {
  "kernelspec": {
   "display_name": "bees",
   "language": "python",
   "name": "python3"
  },
  "language_info": {
   "codemirror_mode": {
    "name": "ipython",
    "version": 3
   },
   "file_extension": ".py",
   "mimetype": "text/x-python",
   "name": "python",
   "nbconvert_exporter": "python",
   "pygments_lexer": "ipython3",
   "version": "3.9.6"
  }
 },
 "nbformat": 4,
 "nbformat_minor": 2
}
